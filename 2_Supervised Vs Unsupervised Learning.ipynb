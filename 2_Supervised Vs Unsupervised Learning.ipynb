{
 "cells": [
  {
   "cell_type": "markdown",
   "id": "0b915c3f",
   "metadata": {},
   "source": [
    "# Supervised vs unsupervised learning\n",
    "When dealing with machine learning problems, there are generally two types of data (and machine learning models):\n",
    "- **Supervised data**: always has one or multiple targets associated with it.\n",
    "- **Unsupervised data**: does not have any target variable.\n",
    "\n",
    "\n",
    "- A supervised problem is considerably easier to tackle than an unsupervised one\n",
    "\n",
    "- Supervised problems can be divided into two sub-classes:\n",
    "     - **Classification**: predicting a category, e.g. dog or cat.\n",
    "     - **Regression**: predicting a value, e.g. house prices.\n",
    "     \n",
    "     \n",
    "- Note : Sometimes we might use regression in a classification setting depending on the metric used for evaluation. But we will come to that later.\n",
    "\n",
    "\n",
    "- To make sense of unsupervised problems, we can also use numerous decomposition techniques such as **Principal Component Analysis (PCA), t-distributed Stochastic Neighbour Embedding (t-SNE)** etc."
   ]
  },
  {
   "cell_type": "code",
   "execution_count": null,
   "id": "e5e99cdd",
   "metadata": {},
   "outputs": [],
   "source": []
  },
  {
   "cell_type": "code",
   "execution_count": 2,
   "id": "5e500729",
   "metadata": {},
   "outputs": [],
   "source": [
    "# To Create dataframes from the numerical arrays\n",
    "import pandas as pd\n",
    "\n",
    "#To handle the numerical arrays\n",
    "import numpy as np\n",
    "\n",
    "# For plotting\n",
    "from matplotlib import pyplot as plt\n",
    "import seaborn as sns\n",
    "\n",
    "# To get data and perform t-SNE\n",
    "from sklearn import datasets\n",
    "from sklearn import manifold"
   ]
  },
  {
   "cell_type": "markdown",
   "id": "1c25b5ef",
   "metadata": {},
   "source": [
    "datasets?\n",
    "\n",
    "The :mod:`sklearn.datasets` module includes utilities to load datasets,\n",
    "including methods to load and fetch popular reference datasets. It also\n",
    "features some artificial data generators.\n",
    "\n",
    "<hr>\n",
    "manifold?\n",
    "\n",
    "The :mod:`sklearn.manifold` module implements data embedding techniques."
   ]
  },
  {
   "cell_type": "code",
   "execution_count": 6,
   "id": "80454b78",
   "metadata": {},
   "outputs": [],
   "source": [
    "data = datasets.fetch_openml(\n",
    "            \"mnist_784\",\n",
    "            version = 1,\n",
    "            return_X_y = True\n",
    "            )\n",
    "pixel_values,targets = data"
   ]
  },
  {
   "cell_type": "code",
   "execution_count": null,
   "id": "87052496",
   "metadata": {},
   "outputs": [],
   "source": [
    "targets"
   ]
  },
  {
   "cell_type": "code",
   "execution_count": null,
   "id": "d3a326a9",
   "metadata": {},
   "outputs": [],
   "source": []
  },
  {
   "cell_type": "code",
   "execution_count": null,
   "id": "ec309431",
   "metadata": {},
   "outputs": [],
   "source": []
  },
  {
   "cell_type": "code",
   "execution_count": null,
   "id": "9342c70e",
   "metadata": {},
   "outputs": [],
   "source": []
  },
  {
   "cell_type": "code",
   "execution_count": null,
   "id": "316bc716",
   "metadata": {},
   "outputs": [],
   "source": []
  },
  {
   "cell_type": "code",
   "execution_count": null,
   "id": "e4b90268",
   "metadata": {},
   "outputs": [],
   "source": [
    "\n"
   ]
  }
 ],
 "metadata": {
  "kernelspec": {
   "display_name": "Python 3",
   "language": "python",
   "name": "python3"
  },
  "language_info": {
   "codemirror_mode": {
    "name": "ipython",
    "version": 3
   },
   "file_extension": ".py",
   "mimetype": "text/x-python",
   "name": "python",
   "nbconvert_exporter": "python",
   "pygments_lexer": "ipython3",
   "version": "3.8.8"
  }
 },
 "nbformat": 4,
 "nbformat_minor": 5
}
