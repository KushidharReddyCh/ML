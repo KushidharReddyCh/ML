{
 "cells": [
  {
   "cell_type": "markdown",
   "id": "7cef4271",
   "metadata": {},
   "source": [
    "<h1> <u> Evaluation Metrics </u></h1>\n",
    "\n",
    "#### For classification problems,the most common metrics used are \n",
    "- Accuracy\n",
    "- Precision(P)\n",
    "- Recall(R)\n",
    "- F1 score(F1)\n",
    "- Area under the ROC(Receiver operating characteristic) curve or simply AUC\n",
    "- Log loss\n",
    "- Precision at k (P@k)\n",
    "- Average Precision at k(AP@k)\n",
    "- Mean average precision at k(MAP@k)\n",
    "#### For regression, the most commonly used evaluation metrics are:\n",
    "- Mean absolute error(MAE)\n",
    "- Mean squared error (MSE)\n",
    "- Root mean squared error (RMSE)\n",
    "- Root mean squared logrithmic error(RMSLE)\n",
    "- Mean percentage error (MPE)\n",
    "- Mean absloute percentage error (MAPE)\n",
    "- R^2"
   ]
  },
  {
   "cell_type": "markdown",
   "id": "1504adb0",
   "metadata": {},
   "source": [
    "We must also know when to use which metrics, and that depends  what kind of data and targets you have. I think it’s more about the targets and less about the data.on\n"
   ]
  },
  {
   "cell_type": "markdown",
   "id": "38ebe59d",
   "metadata": {},
   "source": [
    "<h1><u> EX : SIIM-ACR Pneumothorax Segmentation Competition<u></h1>\n",
    "\n",
    "- Let’s suppose it’s a problem of classifying chest x-ray images.\n",
    "- There are chest x-ray images with no problem, and some of the chest x-ray images have **collapsed lung which is also known as pneumothorax.**\n",
    "- So, our task is to build a classifier that given a chest x-ray image can detect if it has pneumothorax.\n",
    "\n",
    "\n",
    "- We also assume that we have an equal number of pneumothorax and non- pneumothorax chest x-ray images; let’s say 100 each. \n",
    "- Thus, we have 100 positive samples and 100 negative samples with a total of 200 images.\n",
    "- The first step is to divide the data described above into two equal sets of 100 images each, i.e. training and validation set. In both the sets, we have 50 positive and 50 negative samples.\n",
    "\n",
    "<img src=\"images/x-ray.png\" style = \"width:50%\"/>\n",
    "\n",
    "- <i> **WHEN WE HAVE AN EQUAL NUMBER OF POSITIVE AND NEGATIVE SAMPLES IN A BINARY CLASSIFICATION METRIC,WE GENERALLY USE <u>ACCURACY,PRECISION,RECALL AND F1 </u>** </i>\n",
    "  "
   ]
  },
  {
   "cell_type": "markdown",
   "id": "85badf01",
   "metadata": {},
   "source": [
    "<hr style=\"height:1.5px\">\n",
    "\n",
    "**Accuracy** : \n",
    "- It is one of the most straightforward metrics used in machine learning\n",
    "- It defines how accurate your model is.\n",
    "- EX: If you build a model that classifies 90 images accurately, your accuracy is 90% or 0.90. If only 83 images are classified correctly, the accuracy of your model is 83% or 0.83."
   ]
  },
  {
   "cell_type": "code",
   "execution_count": 5,
   "id": "9c09167e",
   "metadata": {},
   "outputs": [],
   "source": [
    "def accuracy(y_true,y_pred):\n",
    "    correct_counter = 0\n",
    "    for yt,yp in zip(y_true,y_pred):\n",
    "        if yt == yp:\n",
    "            correct_counter += 1\n",
    "    return correct_counter/len(y_true)"
   ]
  },
  {
   "cell_type": "code",
   "execution_count": 7,
   "id": "403b1b3f",
   "metadata": {},
   "outputs": [
    {
     "data": {
      "text/plain": [
       "0.625"
      ]
     },
     "execution_count": 7,
     "metadata": {},
     "output_type": "execute_result"
    }
   ],
   "source": [
    "l1 = [0,1,1,1,0,0,0,1]\n",
    "l2 = [0,1,0,1,0,1,0,0]\n",
    "accuracy(l1,l2)"
   ]
  },
  {
   "cell_type": "code",
   "execution_count": 8,
   "id": "e7013802",
   "metadata": {
    "scrolled": true
   },
   "outputs": [
    {
     "data": {
      "text/plain": [
       "0.625"
      ]
     },
     "execution_count": 8,
     "metadata": {},
     "output_type": "execute_result"
    }
   ],
   "source": [
    "# using sk-learn\n",
    "from sklearn import metrics\n",
    "metrics.accuracy_score(l1,l2)"
   ]
  },
  {
   "cell_type": "code",
   "execution_count": null,
   "id": "8b39bdb4",
   "metadata": {},
   "outputs": [],
   "source": []
  },
  {
   "cell_type": "code",
   "execution_count": null,
   "id": "2b586a8b",
   "metadata": {},
   "outputs": [],
   "source": []
  }
 ],
 "metadata": {
  "kernelspec": {
   "display_name": "Python 3",
   "language": "python",
   "name": "python3"
  },
  "language_info": {
   "codemirror_mode": {
    "name": "ipython",
    "version": 3
   },
   "file_extension": ".py",
   "mimetype": "text/x-python",
   "name": "python",
   "nbconvert_exporter": "python",
   "pygments_lexer": "ipython3",
   "version": "3.8.8"
  }
 },
 "nbformat": 4,
 "nbformat_minor": 5
}
